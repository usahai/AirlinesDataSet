{
 "cells": [
  {
   "cell_type": "markdown",
   "metadata": {},
   "source": [
    "## This is a job interview a friend of mine got. I took the dataset and the questions and worked on the solution on my own. I hope that the answers are right, and/or close to what they should be.\n",
    "\n",
    "## I have removed any indication of which company this interview belongs to"
   ]
  },
  {
   "cell_type": "code",
   "execution_count": 1,
   "metadata": {},
   "outputs": [],
   "source": [
    "import numpy as np\n",
    "\n",
    "\"\"\"\n",
    "Python Test\n",
    "\n",
    "Overview:\n",
    "You are the Revenue Optimization Analyst for a brand new LCC\n",
    "So far, the airline has been using a simple pricing strategy - and 4 different \"starting fares\" as an experiment\n",
    "to see which would work best. This can be seen in the function \"pricingSystem\".\n",
    "\"simulateFlights\" and \"calculateSales\" are used to simulate what happens when these pricing strategies are put \n",
    "to action\n",
    "\n",
    "the data:\n",
    "startingFares: an array showing the fare the 1000 flights began at\n",
    "bookingHistory: number of bookings in each period\n",
    "There are 10 periods, 0 is when the flight is first on sale, 9 is the last period before departure\n",
    "Elasticity and expected number of bookings change throughout the periods\n",
    "Each flight can fit a max of 100 passengers\n",
    "fareHistory: the fare that was charged\n",
    "\n",
    "\n",
    "Python functions that would be useful to brush up on for this test:\n",
    "For loops\n",
    "If statements\n",
    "Numpy: sum, mean, cumsum, zeros\n",
    "Working with arrays: indexing, slicing, boolean indexing\n",
    "\n",
    "\n",
    "\n",
    "\"\"\"\n",
    "\n",
    "def calculateSales(period,fare):\n",
    "    table = [[10948.203698364247, -1.7618718586337401],\n",
    "         [12316.724154672282, -1.7618717557777104],\n",
    "         [27227.757147460881, -1.9069276555536103],\n",
    "         [27227.757147460881, -1.9069276555536103],\n",
    "         [31923.373918589208, -1.9259216939097417],\n",
    "         [96784.984473477307, -2.1392197997378548],\n",
    "         [222801.30985081987, -2.2737725815790211],\n",
    "         [473224.98690729542, -2.4112936860531948],\n",
    "         [40392.333438497895, -1.8195040367267661],\n",
    "         [18371.836652604059, -1.6465484040077045]]\n",
    "    a = table[period][0]\n",
    "    b = table[period][1]\n",
    "    seatsSold1 = max(0.0,a*fare**b)\n",
    "    seatsSold2 = np.random.poisson(seatsSold1)\n",
    "    if seatsSold1 == seatsSold2:\n",
    "        return seatsSold1\n",
    "    elif seatsSold2 > seatsSold1:\n",
    "        seatsSold2 = seatsSold2 + np.round((seatsSold1-seatsSold2-.5)/2.0,0)\n",
    "    else:\n",
    "        seatsSold2 = seatsSold2 + np.round((seatsSold1-seatsSold2+.5)/2.0,0)\n",
    "    return seatsSold2\n",
    "\n",
    "def pricingSystem(bookings,startingFare):\n",
    "    if sum(bookings) < 60:\n",
    "        fare = startingFare\n",
    "    elif sum(bookings) < 70:\n",
    "        fare = startingFare + 10\n",
    "    elif sum(bookings) < 80:\n",
    "        fare = startingFare + 15\n",
    "    elif sum(bookings) < 90:\n",
    "        fare = startingFare + 25\n",
    "    else:\n",
    "        fare = startingFare + 50\n",
    "    return fare\n",
    "\n",
    "def simulateFlights():\n",
    "    numberOfFlights = 1000\n",
    "    startingFares = np.ones(numberOfFlights,float)\n",
    "    startingFares[:250] = 65\n",
    "    startingFares[250:500] = 68\n",
    "    startingFares[500:750] = 71\n",
    "    startingFares[750:] = 74\n",
    "    bookingHistory = np.zeros([numberOfFlights,10],float)\n",
    "    fareHistory = np.zeros([numberOfFlights,10],float)\n",
    "    for flightNum in range(numberOfFlights):\n",
    "        for period in range(10):\n",
    "            fareHistory[flightNum,period] = pricingSystem(bookingHistory[flightNum,:],startingFares[flightNum])\n",
    "            tempBookings = calculateSales(period,fareHistory[flightNum,period])\n",
    "            if tempBookings + np.sum(bookingHistory[flightNum,:]) <= 100.0:\n",
    "                bookingHistory[flightNum,period] = tempBookings\n",
    "            else:\n",
    "                bookingHistory[flightNum,period] = 100.0 - sum(bookingHistory[flightNum,:])\n",
    "    return startingFares,bookingHistory,fareHistory\n",
    "\n",
    "np.random.seed(19)\n",
    "startingFares,bookingHistory,fareHistory = simulateFlights()"
   ]
  },
  {
   "cell_type": "code",
   "execution_count": 2,
   "metadata": {},
   "outputs": [
    {
     "name": "stdout",
     "output_type": "stream",
     "text": [
      "0.365\n"
     ]
    }
   ],
   "source": [
    "def question0(bookingHistory):\n",
    "    \"\"\"\n",
    "    example question\n",
    "    What percent of flights sold out?\n",
    "    Answer can be a decimal or a percentage\n",
    "    \"\"\"\n",
    "    answer = float(sum(np.sum(bookingHistory,1)==100.0)) / bookingHistory.shape[0]\n",
    "    return answer\n",
    "\n",
    "print (question0(bookingHistory))"
   ]
  },
  {
   "cell_type": "code",
   "execution_count": 3,
   "metadata": {},
   "outputs": [
    {
     "name": "stdout",
     "output_type": "stream",
     "text": [
      "[7403.38]\n"
     ]
    }
   ],
   "source": [
    "def question1(bookingHistory,fareHistory):\n",
    "    \"\"\"\n",
    "    Easy\n",
    "    Which pricing strategy was the best?\n",
    "    Answer can be a number or text\n",
    "    \"\"\"\n",
    "    \n",
    "    final_sales = np.zeros(shape=[1000,1])\n",
    "    \n",
    "    for row in range(fareHistory.shape[0]):\n",
    "        sum = 0\n",
    "        for col in range(fareHistory.shape[1]):\n",
    "            sum += (fareHistory[row][col] * bookingHistory[row][col])\n",
    "        final_sales[row] = sum\n",
    "    \n",
    "    averages = np.split(final_sales,4)            \n",
    "    answer = max(np.mean(averages,axis=1))\n",
    "    \n",
    "    return answer\n",
    "\n",
    "print(question1(bookingHistory,fareHistory))"
   ]
  },
  {
   "cell_type": "code",
   "execution_count": 4,
   "metadata": {},
   "outputs": [
    {
     "name": "stdout",
     "output_type": "stream",
     "text": [
      "[9351.012]\n"
     ]
    }
   ],
   "source": [
    "def question2(bookingHistory,fareHistory):\n",
    "    \"\"\"\n",
    "    Easy\n",
    "    Assuming the average passenger has an additional $20 in ancillary revenue which pricing strategy is the best?\n",
    "    Answer can be a number or text\n",
    "    \"\"\"\n",
    "    \n",
    "    final_sales = np.zeros(shape=[1000,1])\n",
    "    \n",
    "    for row in range(fareHistory.shape[0]):\n",
    "        sum = 0\n",
    "        for col in range(fareHistory.shape[1]):\n",
    "            sum += ((fareHistory[row][col]+20) * bookingHistory[row][col])\n",
    "        final_sales[row] = sum\n",
    "    \n",
    "    averages = np.split(final_sales,4)            \n",
    "    answer = max(np.mean(averages,axis=1))\n",
    "\n",
    "    return answer\n",
    "\n",
    "print(question2(bookingHistory,fareHistory))"
   ]
  },
  {
   "cell_type": "code",
   "execution_count": 5,
   "metadata": {},
   "outputs": [],
   "source": [
    "# For question 3\n",
    "import matplotlib.pyplot as plt"
   ]
  },
  {
   "cell_type": "code",
   "execution_count": 66,
   "metadata": {
    "scrolled": false
   },
   "outputs": [
    {
     "data": {
      "image/png": "[encoded data removed]",
      "text/plain": [
       "<Figure size 432x288 with 1 Axes>"
      ]
     },
     "metadata": {},
     "output_type": "display_data"
    },
    {
     "data": {
      "text/plain": [
       "<Figure size 1440x1440 with 0 Axes>"
      ]
     },
     "metadata": {},
     "output_type": "display_data"
    }
   ],
   "source": [
    "def getAverage(a):\n",
    "    return np.mean(a)\n",
    "\n",
    "def question3(fareHistory,bookingHistory):\n",
    "    \"\"\"\n",
    "    Medium\n",
    "    Without performing an in depth analysis (That will happen in question 5)\n",
    "    Create a report, graph, table or chart that would help the pricing team improve their pricing.\n",
    "    \"\"\"\n",
    "    rate_of_sales = np.zeros(shape=[1000,10])\n",
    "    \n",
    "    for row in range(fareHistory.shape[0]):\n",
    "        for col in range(fareHistory.shape[1]):\n",
    "            rate_of_sales[row][col] = np.cumsum(fareHistory[row][col] * bookingHistory[row][col])\n",
    "        rate_of_sales[row] = np.cumsum(rate_of_sales[row])\n",
    "    \n",
    "    #-----\n",
    "    buckets = np.split(rate_of_sales,4)    \n",
    "    res = []\n",
    "    for bucket in buckets:\n",
    "        res.append(np.apply_along_axis(getAverage,0,bucket))\n",
    "\n",
    "    return res\n",
    "\n",
    "res = question3(fareHistory,bookingHistory)\n",
    "timeperiod = np.arange(10)\n",
    "\n",
    "for rate_of_cumsales in res:\n",
    "    ax = plt.plot(timeperiod,rate_of_cumsales)\n",
    "\n",
    "plt.legend(['65','68','71','74'])\n",
    "plt.xticks(np.arange(10))\n",
    "fig = plt.figure()\n",
    "fig.set_figheight(20)\n",
    "fig.set_figwidth(20)\n",
    "plt.show()"
   ]
  },
  {
   "cell_type": "code",
   "execution_count": 68,
   "metadata": {},
   "outputs": [
    {
     "data": {
      "image/png": "[encoded data removed]",
      "text/plain": [
       "<Figure size 432x288 with 1 Axes>"
      ]
     },
     "metadata": {},
     "output_type": "display_data"
    }
   ],
   "source": [
    "def question3_2(bookingHistory):\n",
    "    buckets = np.split(bookingHistory,4)\n",
    "    res = []\n",
    "    for bucket in buckets:\n",
    "        res.append(np.apply_along_axis(getAverage,0,bucket))\n",
    "\n",
    "    return res\n",
    "\n",
    "res = question3_2(bookingHistory)\n",
    "width = 0.2\n",
    "ax = plt.subplot(111)\n",
    "ax.bar(np.arange(10),res[0],width,color='b')\n",
    "ax.bar(np.arange(10)+width,res[1],width,color='y')\n",
    "ax.bar(np.arange(10)+width*2,res[2],width,color='g')\n",
    "ax.bar(np.arange(10)+width*3,res[3],width,color='r')\n",
    "ax.autoscale(tight=True)\n",
    "\n",
    "plt.xticks(np.arange(10))\n",
    "plt.show()"
   ]
  },
  {
   "cell_type": "code",
   "execution_count": 69,
   "metadata": {},
   "outputs": [
    {
     "data": {
      "image/png": "[encoded data removed]",
      "text/plain": [
       "<Figure size 432x288 with 1 Axes>"
      ]
     },
     "metadata": {},
     "output_type": "display_data"
    },
    {
     "data": {
      "text/plain": [
       "<Figure size 1440x1440 with 0 Axes>"
      ]
     },
     "metadata": {},
     "output_type": "display_data"
    }
   ],
   "source": [
    "def question3_3(fareHistory):\n",
    "    buckets = np.split(fareHistory,4)\n",
    "    res = []\n",
    "    for bucket in buckets:\n",
    "        res.append(np.apply_along_axis(getAverage,0,bucket))\n",
    "\n",
    "    return res\n",
    "\n",
    "res = question3_3(fareHistory)\n",
    "timeperiod = np.arange(10)\n",
    "for rate_of_fares in res:\n",
    "    ax = plt.plot(timeperiod,rate_of_fares)\n",
    "\n",
    "plt.legend(['65','68','71','74'])\n",
    "plt.xticks(np.arange(10))\n",
    "fig = plt.figure()\n",
    "fig.set_figheight(20)\n",
    "fig.set_figwidth(20)\n",
    "plt.show()"
   ]
  },
  {
   "cell_type": "markdown",
   "metadata": {},
   "source": [
    "\n",
    "\n",
    "# ----------------------"
   ]
  },
  {
   "cell_type": "code",
   "execution_count": 28,
   "metadata": {
    "scrolled": false
   },
   "outputs": [
    {
     "name": "stdout",
     "output_type": "stream",
     "text": [
      "[         nan          nan          nan          nan          nan\n",
      " 106.94255617 159.53217968 177.60192263 254.49332546]\n"
     ]
    },
    {
     "name": "stderr",
     "output_type": "stream",
     "text": [
      "/Users/udbhavsahai/anaconda3/lib/python3.6/site-packages/ipykernel_launcher.py:2: RuntimeWarning: Mean of empty slice\n",
      "  \n"
     ]
    }
   ],
   "source": [
    "def getAverageElasticity(a):\n",
    "    return np.nanmean(a)\n",
    "\n",
    "def question4(bookingHistory,fareHistory):\n",
    "    \"\"\"\n",
    "    Hard\n",
    "    What is the price elasticity of demand at each period?\n",
    "    Build a function that calculates this from the data\n",
    "    Answer should be an array of floats\n",
    "    \"\"\"    \n",
    "    price_elasticity = np.zeros(shape=[1000,9])\n",
    "    \n",
    "    for row in range(bookingHistory.shape[0]):\n",
    "        first = True\n",
    "        for col in range(bookingHistory.shape[1]):\n",
    "            if(first == True):\n",
    "                first = False\n",
    "            else:\n",
    "                ## This is the calculation for price elasticity ##\n",
    "                change_in_qty = bookingHistory[row][col] - bookingHistory[row][col-1]\n",
    "                total_qty = bookingHistory[row][col] + bookingHistory[row][col-1]\n",
    "                change_in_price = fareHistory[row][col] - fareHistory[row][col-1]\n",
    "                total_price = fareHistory[row][col] + fareHistory[row][col-1]\n",
    "                if(change_in_price.astype(int) != 0):\n",
    "                    price_elasticity[row][col-1] = abs((change_in_qty/total_qty)/(change_in_price/total_price))*100\n",
    "                else:\n",
    "                    price_elasticity[row][col-1] = np.nan\n",
    "        \n",
    "    price_elasticity_avg = np.apply_along_axis(getAverageElasticity,0,price_elasticity)    \n",
    "    \n",
    "    return price_elasticity_avg\n",
    "\n",
    "print(question4(bookingHistory,fareHistory))"
   ]
  },
  {
   "cell_type": "markdown",
   "metadata": {},
   "source": [
    "##### Drawing conclusions\n",
    "The prices for the first 5 time periods is unchanged. As such, we are unable to calculate the price elasticity for those periods.\n",
    "\n",
    "Moving forward, our calculations show that the periods during which the prices are not stagnated, the elasticity for demand is greater than 1. Therefore, the prices can be deemed as highly elastic. "
   ]
  },
  {
   "cell_type": "markdown",
   "metadata": {},
   "source": [
    "--- Question 5 \n",
    "---"
   ]
  },
  {
   "cell_type": "code",
   "execution_count": 53,
   "metadata": {},
   "outputs": [],
   "source": [
    "# This is the same as the one above, added with a few thoughts and comments that I had from my understanding\n",
    "# of what the function does\n",
    "\n",
    "def calculate_sales(period,fare):\n",
    "    table = [[10948.203698364247, -1.7618718586337401],\n",
    "         [12316.724154672282, -1.7618717557777104],\n",
    "         [27227.757147460881, -1.9069276555536103],\n",
    "         [27227.757147460881, -1.9069276555536103],\n",
    "         [31923.373918589208, -1.9259216939097417],\n",
    "         [96784.984473477307, -2.1392197997378548],\n",
    "         [222801.30985081987, -2.2737725815790211],\n",
    "         [473224.98690729542, -2.4112936860531948],\n",
    "         [40392.333438497895, -1.8195040367267661],\n",
    "         [18371.836652604059, -1.6465484040077045]]\n",
    "    a = table[period][0]\n",
    "    b = table[period][1]\n",
    "    seatsSold1 = max(0.0,a*fare**b)\n",
    "    # Why use max? What is wrong with a*fare**b. I would use max, if there is a chance that \n",
    "    # there might be chance that a*fare**b will be negative\n",
    "    # Its not possible that seatsSold1 will ever be negative, since 'a' is always positive \n",
    "    # and 'fare' is always positive from pricingSystem. Why is max used??\n",
    "    \n",
    "    seatsSold2 = np.random.poisson(seatsSold1)\n",
    "    if seatsSold1 == seatsSold2:\n",
    "        return seatsSold1\n",
    "    elif seatsSold2 > seatsSold1:\n",
    "        seatsSold2 = seatsSold2 + np.round((seatsSold1-seatsSold2-.5)/2.0,0)\n",
    "    else:\n",
    "        seatsSold2 = seatsSold2 + np.round((seatsSold1-seatsSold2+.5)/2.0,0)\n",
    "    return seatsSold2"
   ]
  },
  {
   "cell_type": "code",
   "execution_count": 72,
   "metadata": {},
   "outputs": [
    {
     "name": "stdout",
     "output_type": "stream",
     "text": [
      "[9378.628]\n"
     ]
    }
   ],
   "source": [
    "# The simulate_flights function is the same as above, but the variables have been replaced\n",
    "# so that the new variables can be passed into the output without replacing the variables \n",
    "# from the original calculation\n",
    "\n",
    "# I do not understand how I can incorporate the function into the solution, so I have left\n",
    "# it there for the purpose of showing the question\n",
    "def question5(period,bookings,fares):\n",
    "    \"\"\"\n",
    "    Very Hard\n",
    "    Design a pricing system that improves revenue above the best rule you found in 2\n",
    "    To answer turn this function into something that outputs fare, like \"pricingSystem\" above.\n",
    "    You may create your own version of simulateFlights to test it.\n",
    "    The better the system, the higher you score on this question.\n",
    "    \"\"\"\n",
    "    \n",
    "    return fare\n",
    "\n",
    "# Edited the pricingSystem calculation so that there will be a more comprehensive breakup for\n",
    "# intermittent calculations\n",
    "def pricingSystem(bookings,startingFare):\n",
    "    if sum(bookings) < 60:\n",
    "        fare = startingFare\n",
    "    elif sum(bookings) < 65:\n",
    "        fare = startingFare + 5\n",
    "    elif sum(bookings) < 70:\n",
    "        fare = startingFare + 10\n",
    "    elif sum(bookings) < 80:\n",
    "        fare = startingFare + 15\n",
    "    elif sum(bookings) < 85:\n",
    "        fare = startingFare + 20\n",
    "    elif sum(bookings) < 90:\n",
    "        fare = startingFare + 25\n",
    "    else:\n",
    "        fare = startingFare + 50\n",
    "    return fare\n",
    "\n",
    "def simulate_flights():\n",
    "    number_of_flights = 1000\n",
    "    starting_fares = np.ones(number_of_flights,float)\n",
    "    starting_fares[:250] = 65\n",
    "    starting_fares[250:500] = 68\n",
    "    starting_fares[500:750] = 71\n",
    "    starting_fares[750:] = 74\n",
    "    \n",
    "    booking_history = np.zeros([number_of_flights,10],float)\n",
    "    fare_history = np.zeros([number_of_flights,10],float)\n",
    "    \n",
    "    for flightNum in range(number_of_flights):\n",
    "        for period in range(10):\n",
    "            fare_history[flightNum,period] = pricingSystem(booking_history[flightNum,:],starting_fares[flightNum])\n",
    "            tempBookings = calculate_sales(period,fare_history[flightNum,period])\n",
    "            if tempBookings + np.sum(booking_history[flightNum,:]) <= 100.0:\n",
    "                booking_history[flightNum,period] = tempBookings\n",
    "            else:\n",
    "                booking_history[flightNum,period] = 100.0 - sum(booking_history[flightNum,:])\n",
    "    return starting_fares,booking_history,fare_history\n",
    "\n",
    "np.random.seed(19)\n",
    "starting_fares,booking_history,fare_history = simulateFlights()\n",
    "\n",
    "print(question2(booking_history,fare_history))"
   ]
  }
 ],
 "metadata": {
  "kernelspec": {
   "display_name": "Python 3",
   "language": "python",
   "name": "python3"
  },
  "language_info": {
   "codemirror_mode": {
    "name": "ipython",
    "version": 3
   },
   "file_extension": ".py",
   "mimetype": "text/x-python",
   "name": "python",
   "nbconvert_exporter": "python",
   "pygments_lexer": "ipython3",
   "version": "3.6.4"
  }
 },
 "nbformat": 4,
 "nbformat_minor": 2
}
